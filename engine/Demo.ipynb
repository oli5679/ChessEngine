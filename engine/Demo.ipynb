{
 "cells": [
  {
   "cell_type": "code",
   "execution_count": 1,
   "metadata": {},
   "outputs": [],
   "source": [
    "import alphabeta"
   ]
  },
  {
   "cell_type": "code",
   "execution_count": 5,
   "metadata": {},
   "outputs": [
    {
     "name": "stdout",
     "output_type": "stream",
     "text": [
      "response e2e4\n",
      "r n b q k b n r\n",
      "p p p p p p p p\n",
      ". . . . . . . .\n",
      ". . . . . . . .\n",
      ". . . . P . . .\n",
      ". . . . . . . .\n",
      "P P P P . P P P\n",
      "R N B Q K B N R\n"
     ]
    }
   ],
   "source": [
    "engine = alphabeta.Engine(color=\"white\", max_depth=2)"
   ]
  },
  {
   "cell_type": "code",
   "execution_count": 3,
   "metadata": {},
   "outputs": [
    {
     "name": "stdout",
     "output_type": "stream",
     "text": [
      "move: d2d4\n",
      "r n b q k b n r\n",
      "p p p p p p p p\n",
      ". . . . . . . .\n",
      ". . . . . . . .\n",
      ". . . P . . . .\n",
      ". . . . . . . .\n",
      "P P P . P P P P\n",
      "R N B Q K B N R\n",
      "move: e7e5\n",
      "r n b q k b n r\n",
      "p p p p . p p p\n",
      ". . . . . . . .\n",
      ". . . . p . . .\n",
      ". . . P . . . .\n",
      ". . . . . . . .\n",
      "P P P . P P P P\n",
      "R N B Q K B N R\n",
      "\n",
      "response d4e5\n",
      "r n b q k b n r\n",
      "p p p p . p p p\n",
      ". . . . . . . .\n",
      ". . . . P . . .\n",
      ". . . . . . . .\n",
      ". . . . . . . .\n",
      "P P P . P P P P\n",
      "R N B Q K B N R\n"
     ]
    }
   ],
   "source": [
    "engine.move(\"g8f6\")\n",
    "engine.move(\"g3f6\")\n",
    "\n",
    "engine.play(\"e7e5\")\n"
   ]
  },
  {
   "cell_type": "code",
   "execution_count": null,
   "metadata": {},
   "outputs": [],
   "source": [
    "%%timeit\n",
    "engine = alphabeta.Engine(color='white',max_depth=4)\n",
    "\n",
    "engine.play('c7c5')\n",
    "\n",
    "engine.play('b8c6')\n",
    "\n",
    "engine.play('g7g6')\n",
    "\n",
    "engine.play('c5d4')\n",
    "\n",
    "engine.play('f8g7')\n",
    "\n",
    "engine.play('g8f6')\n",
    "\n",
    "engine.play('e8g8')\n",
    "\n",
    "engine.play('a7a5')\n",
    "\n",
    "engine.play('b7c6')\n",
    "\n",
    "engine.play('a7a5')"
   ]
  },
  {
   "cell_type": "code",
   "execution_count": null,
   "metadata": {},
   "outputs": [],
   "source": [
    "5.36"
   ]
  },
  {
   "cell_type": "code",
   "execution_count": null,
   "metadata": {},
   "outputs": [],
   "source": [
    "%%snakeviz \n",
    "engine.play('b7c6')"
   ]
  },
  {
   "cell_type": "code",
   "execution_count": null,
   "metadata": {},
   "outputs": [],
   "source": [
    "engine.play('c8a6')"
   ]
  },
  {
   "cell_type": "code",
   "execution_count": null,
   "metadata": {},
   "outputs": [],
   "source": [
    "engine.board"
   ]
  },
  {
   "cell_type": "code",
   "execution_count": null,
   "metadata": {},
   "outputs": [],
   "source": [
    "%load_ext snakeviz"
   ]
  },
  {
   "cell_type": "code",
   "execution_count": null,
   "metadata": {},
   "outputs": [],
   "source": [
    "%%snakeviz \n",
    "engine.play('f8e8')"
   ]
  }
 ],
 "metadata": {
  "kernelspec": {
   "display_name": "Python 3",
   "language": "python",
   "name": "python3"
  },
  "language_info": {
   "codemirror_mode": {
    "name": "ipython",
    "version": 3
   },
   "file_extension": ".py",
   "mimetype": "text/x-python",
   "name": "python",
   "nbconvert_exporter": "python",
   "pygments_lexer": "ipython3",
   "version": "3.7.3"
  }
 },
 "nbformat": 4,
 "nbformat_minor": 2
}
