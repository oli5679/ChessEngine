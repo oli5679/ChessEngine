{
 "cells": [
  {
   "cell_type": "code",
   "execution_count": 10,
   "metadata": {},
   "outputs": [],
   "source": [
    "import alphabeta"
   ]
  },
  {
   "cell_type": "code",
   "execution_count": 15,
   "metadata": {},
   "outputs": [
    {
     "name": "stdout",
     "output_type": "stream",
     "text": [
      "move: d2d4\n",
      "r n b q k b n r\n",
      "p p p p p p p p\n",
      ". . . . . . . .\n",
      ". . . . . . . .\n",
      ". . . P . . . .\n",
      ". . . . . . . .\n",
      "P P P . P P P P\n",
      "R N B Q K B N R\n"
     ]
    }
   ],
   "source": [
    "engine = alphabeta.Engine(color='white',max_depth=2)"
   ]
  },
  {
   "cell_type": "code",
   "execution_count": 16,
   "metadata": {},
   "outputs": [
    {
     "name": "stdout",
     "output_type": "stream",
     "text": [
      "move: f7f5\n",
      "r n b q k b n r\n",
      "p p p p p . p p\n",
      ". . . . . . . .\n",
      ". . . . . p . .\n",
      ". . . P . . . .\n",
      ". . . . . . . .\n",
      "P P P . P P P P\n",
      "R N B Q K B N R\n",
      "\n",
      "response h2h4\n",
      "r n b q k b n r\n",
      "p p p p p . p p\n",
      ". . . . . . . .\n",
      ". . . . . p . .\n",
      ". . . P . . . P\n",
      ". . . . . . . .\n",
      "P P P . P P P .\n",
      "R N B Q K B N R\n"
     ]
    }
   ],
   "source": [
    "engine.play('f7f5')"
   ]
  },
  {
   "cell_type": "code",
   "execution_count": null,
   "metadata": {},
   "outputs": [],
   "source": []
  }
 ],
 "metadata": {
  "kernelspec": {
   "display_name": "Python 3",
   "language": "python",
   "name": "python3"
  },
  "language_info": {
   "codemirror_mode": {
    "name": "ipython",
    "version": 3
   },
   "file_extension": ".py",
   "mimetype": "text/x-python",
   "name": "python",
   "nbconvert_exporter": "python",
   "pygments_lexer": "ipython3",
   "version": "3.7.3"
  }
 },
 "nbformat": 4,
 "nbformat_minor": 2
}
